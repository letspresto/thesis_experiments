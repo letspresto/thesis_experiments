{
 "cells": [
  {
   "cell_type": "code",
   "execution_count": 1,
   "metadata": {
    "collapsed": true
   },
   "outputs": [],
   "source": [
    "#get thumbnails width 350 from numastics\n",
    "import re\n",
    "import requests\n",
    "from bs4 import BeautifulSoup\n",
    "import json\n",
    "import time\n",
    "import urllib\n",
    "import os"
   ]
  },
  {
   "cell_type": "code",
   "execution_count": 2,
   "metadata": {
    "collapsed": true
   },
   "outputs": [],
   "source": [
    "#Function that returns a list of links\n",
    "def get_page(url):\n",
    "#     url = 'link'\n",
    "    headers = {'user-agent': 'Mozilla/5.0 (Macintosh; Intel Mac OS X 10_11_6) AppleWebKit/537.36 (KHTML, like Gecko) Chrome/53.0.2785.143 Safari/537.36'}\n",
    "    response = requests.get(url, headers=headers, timeout=5)\n",
    "    html = response.text\n",
    "    soup = BeautifulSoup(html, 'lxml')\n",
    "    \n",
    "    links = list()\n",
    "    \n",
    "    for data in soup.find_all('div', class_='col-md-5 col-lg-4 pull-right'):\n",
    "        for a in data.find_all('a'):\n",
    "            word = 'rev'\n",
    "            link = a.get('href')\n",
    "            if word not in link:\n",
    "#                 print(link)\n",
    "                links.append(link)\n",
    "    return links"
   ]
  },
  {
   "cell_type": "code",
   "execution_count": 3,
   "metadata": {
    "collapsed": true
   },
   "outputs": [],
   "source": [
    "#Function to get list of names \n",
    "def get_names(url):\n",
    "    headers = {'user-agent': 'Mozilla/5.0 (Macintosh; Intel Mac OS X 10_11_6) AppleWebKit/537.36 (KHTML, like Gecko) Chrome/53.0.2785.143 Safari/537.36'}\n",
    "    response = requests.get(url, headers=headers, timeout=5)\n",
    "    html = response.text\n",
    "    soup = BeautifulSoup(html, 'lxml')\n",
    "    \n",
    "    names = list()\n",
    "    \n",
    "    for data in soup.find_all('div', class_='col-md-5 col-lg-4 pull-right'):\n",
    "        for a in data.find_all('a'):\n",
    "            word = 'rev'\n",
    "            link = a.get('href')\n",
    "            if word not in link:\n",
    "                first = link.rsplit(\"/\")[-1]\n",
    "                last = first.rsplit(\".obv\")[-2]\n",
    "                title = last\n",
    "                filename = title\n",
    "                filetype = '.jpg'\n",
    "                x = filename + filetype\n",
    "                names.append(x)\n",
    "\n",
    "    return names\n",
    "        "
   ]
  },
  {
   "cell_type": "code",
   "execution_count": 4,
   "metadata": {
    "collapsed": false
   },
   "outputs": [],
   "source": [
    "base_url = 'LINK'\n",
    "page = 0 "
   ]
  },
  {
   "cell_type": "code",
   "execution_count": 13,
   "metadata": {
    "collapsed": false
   },
   "outputs": [
    {
     "data": {
      "text/plain": [
       "'/Users/Presto/Development/python/beautifulsoup'"
      ]
     },
     "execution_count": 13,
     "metadata": {},
     "output_type": "execute_result"
    }
   ],
   "source": [
    "#PATTERN TO FIND PATH \n",
    "# cwd = os.getcwd()\n",
    "# image_folder_path = cwd + \"/images/\""
   ]
  },
  {
   "cell_type": "code",
   "execution_count": 6,
   "metadata": {
    "collapsed": false
   },
   "outputs": [],
   "source": [
    "totalPages = 5\n",
    "\n",
    "#While look to move up a page\n",
    "while totalPages > 0: \n",
    "    url = base_url + str(page)\n",
    "    links = get_page(url)\n",
    "    filenames = get_names(url)\n",
    "    long_names = [\"./images/\" + name for name in filenames]\n",
    "    #this for loop iterates over all the links\n",
    "    for i, link in enumerate(links):\n",
    "        try: \n",
    "            #retrieve the item from the link and save it as the name from the get_name list\n",
    "            urllib.urlretrieve(link, long_names[i])\n",
    "        except ValueError:\n",
    "            pass\n",
    "    totalPages = totalPages - 1\n",
    "    page = page + 20\n",
    "    time.sleep(.1)"
   ]
  },
  {
   "cell_type": "code",
   "execution_count": null,
   "metadata": {
    "collapsed": false
   },
   "outputs": [],
   "source": []
  },
  {
   "cell_type": "code",
   "execution_count": null,
   "metadata": {
    "collapsed": false
   },
   "outputs": [],
   "source": []
  },
  {
   "cell_type": "code",
   "execution_count": null,
   "metadata": {
    "collapsed": false
   },
   "outputs": [],
   "source": []
  }
 ],
 "metadata": {
  "kernelspec": {
   "display_name": "Python 2",
   "language": "python",
   "name": "python2"
  },
  "language_info": {
   "codemirror_mode": {
    "name": "ipython",
    "version": 2
   },
   "file_extension": ".py",
   "mimetype": "text/x-python",
   "name": "python",
   "nbconvert_exporter": "python",
   "pygments_lexer": "ipython2",
   "version": "2.7.13"
  }
 },
 "nbformat": 4,
 "nbformat_minor": 2
}
