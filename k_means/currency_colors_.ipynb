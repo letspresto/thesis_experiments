{
 "cells": [
  {
   "cell_type": "code",
   "execution_count": 1,
   "metadata": {
    "collapsed": true
   },
   "outputs": [],
   "source": [
    "import requests \n",
    "from PIL import Image\n",
    "from sys import exit\n",
    "from io import BytesIO\n",
    "from colorsys import rgb_to_hsv, hsv_to_rgb\n",
    "from scipy.cluster.vq import kmeans\n",
    "from numpy import array"
   ]
  },
  {
   "cell_type": "code",
   "execution_count": 2,
   "metadata": {
    "collapsed": true
   },
   "outputs": [],
   "source": [
    "DEFAULT_NUM_COLORS = 6\n",
    "# default minimum and maximum values are used to clamp the color values to a specific range\n",
    "# originally this was set to 170 and 200, but I'm running with 0 and 256 in order to \n",
    "# not clamp the values. This can also be set as a parameter. \n",
    "DEFAULT_MINV = 0\n",
    "DEFAULT_MAXV = 256\n",
    "\n",
    "THUMB_SIZE = (200, 200)\n",
    "SCALE = 256.0\n",
    "\n",
    "def down_scale(x):\n",
    "    return x / SCALE\n",
    "\n",
    "def up_scale(x):\n",
    "    return int(x * SCALE)\n",
    "\n",
    "def clamp(color, min_v, max_v):\n",
    "    \"\"\"\n",
    "    Clamps a color such that the value (lightness) is between min_v and max_v.\n",
    "    \"\"\"\n",
    "    # use down_scale to convert color to value between 0-1 as expected by rgb_hsv\n",
    "    h, s, v = rgb_to_hsv(*map(down_scale, color))\n",
    "    # also convert the min_v and max_v to values between 0-1\n",
    "    min_v, max_v = map(down_scale, (min_v, max_v))\n",
    "    # get the maximum of the min value and the color's value (therefore bumping it up if needed)\n",
    "    # then get the minimum of that number and the max_v (bumping the value down if needed)\n",
    "    v = min(max(min_v, v), max_v)\n",
    "    # convert the h, s, v(which has been clamped) to rgb, apply upscale to get it back to 0-255, return tuple R,G,B\n",
    "    return tuple(map(up_scale, hsv_to_rgb(h, s, v)))\n",
    "\n",
    "def order_by_hue(colors):\n",
    "    \"\"\"\n",
    "    Orders colors by hue.\n",
    "    \"\"\"\n",
    "    hsvs = [rgb_to_hsv(*map(down_scale, color)) for color in colors]\n",
    "    hsvs.sort(key=lambda t: t[0])\n",
    "    return [tuple(map(up_scale, hsv_to_rgb(*hsv))) for hsv in hsvs]\n",
    "\n",
    "def get_colors(img):\n",
    "    \"\"\"\n",
    "    Returns a list of all the image's colors.\n",
    "    \"\"\"\n",
    "    w, h = img.size\n",
    "    # convert('RGB') converts the image's pixels info to RGB \n",
    "    # getcolors() returns an unsorted list of (count, pixel) values\n",
    "    # w * h ensures that maxcolors parameter is set so that each pixel could be unique\n",
    "    # there are three values returned in a list\n",
    "    return [color for count, color in img.convert('RGB').getcolors(w * h)]\n",
    "\n",
    "def hexify(rgb):\n",
    "    return \"#{0:02x}{1:02x}{2:02x}\".format(*rgb)\n",
    "\n",
    "def colorz(image_url, n=DEFAULT_NUM_COLORS, min_v=DEFAULT_MINV, max_v=DEFAULT_MAXV,\n",
    "           order_colors=True):\n",
    "    \"\"\"\n",
    "    Get the n most dominant colors of an image.\n",
    "    Clamps value to between min_v and max_v.\n",
    "\n",
    "    Total number of colors returned is n, optionally ordered by hue.\n",
    "    Returns as a list of RGB triples.\n",
    "\n",
    "    \"\"\"\n",
    "    try:\n",
    "        r = requests.get(image_url)\n",
    "    except ValueError:\n",
    "        print(\"{0} was not a valid URL.\".format(image_file))\n",
    "        exit(1)\n",
    "    img = Image.open(BytesIO(r.content))\n",
    "    img.thumbnail(THUMB_SIZE) # replace with a thumbnail with same aspect ratio, no larger than THUMB_SIZE\n",
    "    obs = get_colors(img) # gets a list of RGB colors (e.g. (213, 191, 152)) for each pixel\n",
    "    # adjust the value of each color, if you've chosen to change minimum and maximum values\n",
    "    clamped = [clamp(color, min_v, max_v) for color in obs] \n",
    "    # turns the list of colors into a numpy array of floats, then applies scipy's k-means function\n",
    "    clusters, _ = kmeans(array(clamped).astype(float), n) \n",
    "    colors = order_by_hue(clusters) if order_colors else clusters    \n",
    "    hex_colors = list(map(hexify, colors)) # turn RGB into hex colors for web\n",
    "    return hex_colors"
   ]
  },
  {
   "cell_type": "code",
   "execution_count": 3,
   "metadata": {
    "collapsed": false
   },
   "outputs": [
    {
     "data": {
      "text/plain": [
       "['#bb9e8c', '#cecbc8', '#af8f64', '#959a9a', '#585962', '#7b7676']"
      ]
     },
     "execution_count": 3,
     "metadata": {},
     "output_type": "execute_result"
    }
   ],
   "source": [
    "single_image = colorz(\"LINK TO HOSTED IMAGE (i.e. on aws)\")\n",
    "single_image"
   ]
  },
  {
   "cell_type": "code",
   "execution_count": 4,
   "metadata": {
    "collapsed": false
   },
   "outputs": [],
   "source": [
    "#make a Seaborn palette\n",
    "%matplotlib inline"
   ]
  },
  {
   "cell_type": "code",
   "execution_count": 5,
   "metadata": {
    "collapsed": false
   },
   "outputs": [],
   "source": [
    "import numpy as np\n",
    "import seaborn as sns"
   ]
  },
  {
   "cell_type": "code",
   "execution_count": 6,
   "metadata": {
    "collapsed": true
   },
   "outputs": [],
   "source": [
    "import matplotlib.pyplot as plt"
   ]
  },
  {
   "cell_type": "code",
   "execution_count": 7,
   "metadata": {
    "collapsed": false
   },
   "outputs": [],
   "source": [
    "sns.set(rc={\"figure.figsize\": (6,6)})\n",
    "np.random.seed(sum(map(ord, \"palettes\")))"
   ]
  },
  {
   "cell_type": "code",
   "execution_count": 8,
   "metadata": {
    "collapsed": false
   },
   "outputs": [
    {
     "data": {
      "image/png": "[encoded data removed]",
      "text/plain": [
       "<matplotlib.figure.Figure at 0x11027b3d0>"
      ]
     },
     "metadata": {},
     "output_type": "display_data"
    }
   ],
   "source": [
    "current_palette = sns.color_palette(single_image)\n",
    "sns.palplot(current_palette)\n",
    "plt.savefig('NAME_OF_FILE', dpi = 400, bbox_inches='tight', pad_inches=0, transparent=True)"
   ]
  },
  {
   "cell_type": "code",
   "execution_count": 13,
   "metadata": {
    "collapsed": false
   },
   "outputs": [
    {
     "data": {
      "text/plain": [
       "<matplotlib.figure.Figure at 0x11ce33bd0>"
      ]
     },
     "metadata": {},
     "output_type": "display_data"
    }
   ],
   "source": []
  },
  {
   "cell_type": "code",
   "execution_count": null,
   "metadata": {
    "collapsed": true
   },
   "outputs": [],
   "source": []
  }
 ],
 "metadata": {
  "kernelspec": {
   "display_name": "Python 2",
   "language": "python",
   "name": "python2"
  },
  "language_info": {
   "codemirror_mode": {
    "name": "ipython",
    "version": 2
   },
   "file_extension": ".py",
   "mimetype": "text/x-python",
   "name": "python",
   "nbconvert_exporter": "python",
   "pygments_lexer": "ipython2",
   "version": "2.7.13"
  }
 },
 "nbformat": 4,
 "nbformat_minor": 2
}
